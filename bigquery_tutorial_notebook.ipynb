{
  "nbformat": 4,
  "nbformat_minor": 0,
  "metadata": {
    "colab": {
      "provenance": []
    },
    "kernelspec": {
      "name": "python3",
      "display_name": "Python 3"
    },
    "language_info": {
      "name": "python"
    }
  },
  "cells": [
    {
      "cell_type": "markdown",
      "source": [
        "#Installing neccessary libraries"
      ],
      "metadata": {
        "id": "FphzC84Ih9kA"
      }
    },
    {
      "cell_type": "code",
      "execution_count": null,
      "metadata": {
        "id": "m-8pQ8oMhZpd"
      },
      "outputs": [],
      "source": [
        "%pip -q install google-cloud-bigquery\n",
        "%pip install pandas-gbq -U\n",
        "%pip install catboost "
      ]
    },
    {
      "cell_type": "markdown",
      "source": [
        "#Importing neccessary libraries "
      ],
      "metadata": {
        "id": "oUpMT50ujtly"
      }
    },
    {
      "cell_type": "code",
      "source": [
        "import os \n",
        "from google.cloud import bigquery\n",
        "import plotly\n",
        "import pandas as pd \n",
        "import pandas_gbq\n",
        "from catboost import CatBoostRegressor\n",
        "from sklearn.model_selection import train_test_split\n",
        "import plotly.graph_objs as go\n",
        "import json"
      ],
      "metadata": {
        "id": "6Dd7SQ4whlwS"
      },
      "execution_count": null,
      "outputs": []
    },
    {
      "cell_type": "markdown",
      "source": [
        "\n",
        "# Setting up BigQuery client\n"
      ],
      "metadata": {
        "id": "5npvDZYuhuq7"
      }
    },
    {
      "cell_type": "code",
      "source": [
        "key_file = 'oreilly_demo_key.json'\n",
        "os.environ['GOOGLE_APPLICATION_CREDENTIALS'] = key_file\n",
        "client = bigquery.Client()"
      ],
      "metadata": {
        "id": "gaNSedOQht7c"
      },
      "execution_count": null,
      "outputs": []
    },
    {
      "cell_type": "code",
      "source": [
        "f = open(key_file)\n",
        "  \n",
        "data = json.load(f)\n",
        "project_id = data['project_id']\n",
        "f.close()"
      ],
      "metadata": {
        "id": "lRuyIyiVj3R7"
      },
      "execution_count": null,
      "outputs": []
    }
  ]
}